{
 "cells": [
  {
   "cell_type": "code",
   "execution_count": 1,
   "metadata": {},
   "outputs": [],
   "source": [
    "import matplotlib.pyplot as plt\n",
    "import pandas as pd\n",
    "%matplotlib inline\n",
    "import numpy as np\n",
    "import scipy.cluster.hierarchy as shc\n",
    "from sklearn.cluster import AgglomerativeClustering"
   ]
  },
  {
   "cell_type": "code",
   "execution_count": 2,
   "metadata": {},
   "outputs": [
    {
     "name": "stdout",
     "output_type": "stream",
     "text": [
      "(40328, 8)\n"
     ]
    },
    {
     "data": {
      "text/html": [
       "<div>\n",
       "<style scoped>\n",
       "    .dataframe tbody tr th:only-of-type {\n",
       "        vertical-align: middle;\n",
       "    }\n",
       "\n",
       "    .dataframe tbody tr th {\n",
       "        vertical-align: top;\n",
       "    }\n",
       "\n",
       "    .dataframe thead th {\n",
       "        text-align: right;\n",
       "    }\n",
       "</style>\n",
       "<table border=\"1\" class=\"dataframe\">\n",
       "  <thead>\n",
       "    <tr style=\"text-align: right;\">\n",
       "      <th></th>\n",
       "      <th>url</th>\n",
       "      <th>name</th>\n",
       "      <th>languages</th>\n",
       "      <th>original_price</th>\n",
       "      <th>all_review_sentiment</th>\n",
       "      <th>all_review_sentiment_num</th>\n",
       "      <th>all_review_num</th>\n",
       "      <th>total</th>\n",
       "    </tr>\n",
       "  </thead>\n",
       "  <tbody>\n",
       "    <tr>\n",
       "      <th>0</th>\n",
       "      <td>https://store.steampowered.com/app/379720/DOOM/</td>\n",
       "      <td>DOOM</td>\n",
       "      <td>['Russian', 'Japanese', 'Polish', 'Traditional...</td>\n",
       "      <td>19.99</td>\n",
       "      <td>1.000000</td>\n",
       "      <td>0.014711</td>\n",
       "      <td>0.013751</td>\n",
       "      <td>['Fast-Paced', 'Steam Cloud', 'Gore', 'Sci-fi'...</td>\n",
       "    </tr>\n",
       "    <tr>\n",
       "      <th>1</th>\n",
       "      <td>https://store.steampowered.com/app/578080/PLAY...</td>\n",
       "      <td>PLAYERUNKNOWN'S BATTLEGROUNDS</td>\n",
       "      <td>['Portuguese', 'Russian', 'Japanese', 'Polish'...</td>\n",
       "      <td>29.99</td>\n",
       "      <td>0.111111</td>\n",
       "      <td>0.154052</td>\n",
       "      <td>0.270377</td>\n",
       "      <td>['Adventure', 'Multiplayer', 'Tactical', 'FPS'...</td>\n",
       "    </tr>\n",
       "    <tr>\n",
       "      <th>2</th>\n",
       "      <td>https://store.steampowered.com/app/637090/BATT...</td>\n",
       "      <td>BATTLETECH</td>\n",
       "      <td>['Russian', 'French', 'German', 'English']</td>\n",
       "      <td>39.99</td>\n",
       "      <td>0.333333</td>\n",
       "      <td>0.001876</td>\n",
       "      <td>0.002272</td>\n",
       "      <td>['Adventure', 'Steam Cloud', 'RPG', 'Sci-fi', ...</td>\n",
       "    </tr>\n",
       "    <tr>\n",
       "      <th>3</th>\n",
       "      <td>https://store.steampowered.com/app/221100/DayZ/</td>\n",
       "      <td>DayZ</td>\n",
       "      <td>['Russian', 'Czech', 'English', 'Spanish - Spa...</td>\n",
       "      <td>44.99</td>\n",
       "      <td>0.111111</td>\n",
       "      <td>0.038308</td>\n",
       "      <td>0.054009</td>\n",
       "      <td>['Adventure', 'Steam Cloud', 'Multiplayer', 'A...</td>\n",
       "    </tr>\n",
       "    <tr>\n",
       "      <th>4</th>\n",
       "      <td>https://store.steampowered.com/app/8500/EVE_On...</td>\n",
       "      <td>EVE Online</td>\n",
       "      <td>['French', 'Russian', 'German', 'English']</td>\n",
       "      <td>0.00</td>\n",
       "      <td>0.333333</td>\n",
       "      <td>0.003192</td>\n",
       "      <td>0.003710</td>\n",
       "      <td>['RPG', 'Sci-fi', 'Multiplayer', 'PvE', 'Tacti...</td>\n",
       "    </tr>\n",
       "    <tr>\n",
       "      <th>5</th>\n",
       "      <td>https://store.steampowered.com/bundle/5699/Gra...</td>\n",
       "      <td>Grand Theft Auto V: Premium Online Edition</td>\n",
       "      <td>[' Spanish - Spain', ' Simplified Chinese', ' ...</td>\n",
       "      <td>0.00</td>\n",
       "      <td>0.000000</td>\n",
       "      <td>0.000000</td>\n",
       "      <td>0.000000</td>\n",
       "      <td>['Action', 'Multi-player', 'AdventureSingle-pl...</td>\n",
       "    </tr>\n",
       "    <tr>\n",
       "      <th>6</th>\n",
       "      <td>https://store.steampowered.com/app/601150/Devi...</td>\n",
       "      <td>Devil May Cry 5</td>\n",
       "      <td>['Korean', 'Russian', 'Polish', 'Japanese', 'T...</td>\n",
       "      <td>59.99</td>\n",
       "      <td>1.000000</td>\n",
       "      <td>0.003334</td>\n",
       "      <td>0.003117</td>\n",
       "      <td>['Adventure', 'Nudity', 'Steam Cloud', 'Gore',...</td>\n",
       "    </tr>\n",
       "    <tr>\n",
       "      <th>7</th>\n",
       "      <td>https://store.steampowered.com/app/477160/Huma...</td>\n",
       "      <td>Human: Fall Flat</td>\n",
       "      <td>['Korean', 'Portuguese', 'Russian', 'Japanese'...</td>\n",
       "      <td>14.99</td>\n",
       "      <td>1.000000</td>\n",
       "      <td>0.008126</td>\n",
       "      <td>0.007680</td>\n",
       "      <td>['Adventure', 'Local Co-op', 'Steam Cloud', 'M...</td>\n",
       "    </tr>\n",
       "    <tr>\n",
       "      <th>8</th>\n",
       "      <td>https://store.steampowered.com/app/644930/They...</td>\n",
       "      <td>They Are Billions</td>\n",
       "      <td>['Russian', 'Japanese', 'Polish', 'Traditional...</td>\n",
       "      <td>29.99</td>\n",
       "      <td>1.000000</td>\n",
       "      <td>0.003873</td>\n",
       "      <td>0.003919</td>\n",
       "      <td>['Steam Cloud', 'Real-Time with Pause', 'Early...</td>\n",
       "    </tr>\n",
       "    <tr>\n",
       "      <th>9</th>\n",
       "      <td>https://store.steampowered.com/app/774241/Warh...</td>\n",
       "      <td>Warhammer: Chaosbane</td>\n",
       "      <td>['Korean', 'Russian', 'Japanese', 'Polish', 'S...</td>\n",
       "      <td>49.99</td>\n",
       "      <td>0.111111</td>\n",
       "      <td>0.000149</td>\n",
       "      <td>0.000292</td>\n",
       "      <td>['Adventure', 'Local Co-op', 'Steam Cloud', 'R...</td>\n",
       "    </tr>\n",
       "  </tbody>\n",
       "</table>\n",
       "</div>"
      ],
      "text/plain": [
       "                                                 url  \\\n",
       "0    https://store.steampowered.com/app/379720/DOOM/   \n",
       "1  https://store.steampowered.com/app/578080/PLAY...   \n",
       "2  https://store.steampowered.com/app/637090/BATT...   \n",
       "3    https://store.steampowered.com/app/221100/DayZ/   \n",
       "4  https://store.steampowered.com/app/8500/EVE_On...   \n",
       "5  https://store.steampowered.com/bundle/5699/Gra...   \n",
       "6  https://store.steampowered.com/app/601150/Devi...   \n",
       "7  https://store.steampowered.com/app/477160/Huma...   \n",
       "8  https://store.steampowered.com/app/644930/They...   \n",
       "9  https://store.steampowered.com/app/774241/Warh...   \n",
       "\n",
       "                                         name  \\\n",
       "0                                        DOOM   \n",
       "1               PLAYERUNKNOWN'S BATTLEGROUNDS   \n",
       "2                                  BATTLETECH   \n",
       "3                                        DayZ   \n",
       "4                                  EVE Online   \n",
       "5  Grand Theft Auto V: Premium Online Edition   \n",
       "6                             Devil May Cry 5   \n",
       "7                            Human: Fall Flat   \n",
       "8                           They Are Billions   \n",
       "9                        Warhammer: Chaosbane   \n",
       "\n",
       "                                           languages  original_price  \\\n",
       "0  ['Russian', 'Japanese', 'Polish', 'Traditional...           19.99   \n",
       "1  ['Portuguese', 'Russian', 'Japanese', 'Polish'...           29.99   \n",
       "2         ['Russian', 'French', 'German', 'English']           39.99   \n",
       "3  ['Russian', 'Czech', 'English', 'Spanish - Spa...           44.99   \n",
       "4         ['French', 'Russian', 'German', 'English']            0.00   \n",
       "5  [' Spanish - Spain', ' Simplified Chinese', ' ...            0.00   \n",
       "6  ['Korean', 'Russian', 'Polish', 'Japanese', 'T...           59.99   \n",
       "7  ['Korean', 'Portuguese', 'Russian', 'Japanese'...           14.99   \n",
       "8  ['Russian', 'Japanese', 'Polish', 'Traditional...           29.99   \n",
       "9  ['Korean', 'Russian', 'Japanese', 'Polish', 'S...           49.99   \n",
       "\n",
       "   all_review_sentiment  all_review_sentiment_num  all_review_num  \\\n",
       "0              1.000000                  0.014711        0.013751   \n",
       "1              0.111111                  0.154052        0.270377   \n",
       "2              0.333333                  0.001876        0.002272   \n",
       "3              0.111111                  0.038308        0.054009   \n",
       "4              0.333333                  0.003192        0.003710   \n",
       "5              0.000000                  0.000000        0.000000   \n",
       "6              1.000000                  0.003334        0.003117   \n",
       "7              1.000000                  0.008126        0.007680   \n",
       "8              1.000000                  0.003873        0.003919   \n",
       "9              0.111111                  0.000149        0.000292   \n",
       "\n",
       "                                               total  \n",
       "0  ['Fast-Paced', 'Steam Cloud', 'Gore', 'Sci-fi'...  \n",
       "1  ['Adventure', 'Multiplayer', 'Tactical', 'FPS'...  \n",
       "2  ['Adventure', 'Steam Cloud', 'RPG', 'Sci-fi', ...  \n",
       "3  ['Adventure', 'Steam Cloud', 'Multiplayer', 'A...  \n",
       "4  ['RPG', 'Sci-fi', 'Multiplayer', 'PvE', 'Tacti...  \n",
       "5  ['Action', 'Multi-player', 'AdventureSingle-pl...  \n",
       "6  ['Adventure', 'Nudity', 'Steam Cloud', 'Gore',...  \n",
       "7  ['Adventure', 'Local Co-op', 'Steam Cloud', 'M...  \n",
       "8  ['Steam Cloud', 'Real-Time with Pause', 'Early...  \n",
       "9  ['Adventure', 'Local Co-op', 'Steam Cloud', 'R...  "
      ]
     },
     "execution_count": 2,
     "metadata": {},
     "output_type": "execute_result"
    }
   ],
   "source": [
    "df = pd.read_csv('steam_games_final_format.csv')\n",
    "print(df.shape)\n",
    "df.head(10)"
   ]
  },
  {
   "cell_type": "code",
   "execution_count": 6,
   "metadata": {},
   "outputs": [],
   "source": [
    "data = df.iloc[:,3:7].values\n",
    "plt.figure(figsize=(10, 7))\n",
    "plt.title(\"Customer Dendograms\")\n",
    "dend = shc.dendrogram(shc.linkage(data, method='ward'))"
   ]
  },
  {
   "cell_type": "code",
   "execution_count": 4,
   "metadata": {},
   "outputs": [
    {
     "data": {
      "text/plain": [
       "array([0, 0, 0, ..., 0, 0, 0], dtype=int64)"
      ]
     },
     "execution_count": 4,
     "metadata": {},
     "output_type": "execute_result"
    }
   ],
   "source": [
    "data = df.iloc[:,3:7].values\n",
    "cluster = AgglomerativeClustering(n_clusters=5, affinity='euclidean', linkage='ward')\n",
    "cluster.fit_predict(data)"
   ]
  },
  {
   "cell_type": "code",
   "execution_count": 5,
   "metadata": {},
   "outputs": [
    {
     "data": {
      "text/plain": [
       "<matplotlib.collections.PathCollection at 0x235dad8d190>"
      ]
     },
     "execution_count": 5,
     "metadata": {},
     "output_type": "execute_result"
    },
    {
     "data": {
      "image/png": "[encoded data removed]",
      "text/plain": [
       "<Figure size 720x504 with 1 Axes>"
      ]
     },
     "metadata": {
      "needs_background": "dark"
     },
     "output_type": "display_data"
    }
   ],
   "source": [
    "plt.figure(figsize=(10, 7))\n",
    "plt.scatter(data[:,0], data[:,1], c=cluster.labels_, cmap='rainbow')"
   ]
  }
 ],
 "metadata": {
  "interpreter": {
   "hash": "8a001b366a324a50487df27c5446a9633948b43029a63ce2a1b2f8640c07fa7e"
  },
  "kernelspec": {
   "display_name": "Python 3.9.6 64-bit",
   "name": "python3"
  },
  "language_info": {
   "codemirror_mode": {
    "name": "ipython",
    "version": 3
   },
   "file_extension": ".py",
   "mimetype": "text/x-python",
   "name": "python",
   "nbconvert_exporter": "python",
   "pygments_lexer": "ipython3",
   "version": "3.9.6"
  },
  "orig_nbformat": 4
 },
 "nbformat": 4,
 "nbformat_minor": 2
}
