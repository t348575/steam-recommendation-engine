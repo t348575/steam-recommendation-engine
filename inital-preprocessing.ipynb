{
 "cells": [
  {
   "cell_type": "code",
   "execution_count": 1,
   "metadata": {
    "_cell_guid": "b1076dfc-b9ad-4769-8c92-a6c4dae69d19",
    "_uuid": "8f2839f25d086af736a60e9eeb907d3b93b6e0e5",
    "execution": {
     "iopub.execute_input": "2021-08-11T10:42:46.855695Z",
     "iopub.status.busy": "2021-08-11T10:42:46.855333Z",
     "iopub.status.idle": "2021-08-11T10:42:46.860105Z",
     "shell.execute_reply": "2021-08-11T10:42:46.858817Z",
     "shell.execute_reply.started": "2021-08-11T10:42:46.855665Z"
    }
   },
   "outputs": [],
   "source": [
    "import pandas as pd\n",
    "import matplotlib.pyplot as plt\n",
    "import seaborn as sns\n",
    "import os\n",
    "\n",
    "# pd.set_option('display.max_colwidth', None)"
   ]
  },
  {
   "cell_type": "code",
   "execution_count": 2,
   "metadata": {
    "execution": {
     "iopub.execute_input": "2021-08-11T10:44:02.403925Z",
     "iopub.status.busy": "2021-08-11T10:44:02.403556Z",
     "iopub.status.idle": "2021-08-11T10:44:04.862245Z",
     "shell.execute_reply": "2021-08-11T10:44:04.861256Z",
     "shell.execute_reply.started": "2021-08-11T10:44:02.403893Z"
    }
   },
   "outputs": [],
   "source": [
    "df = pd.read_csv('steam_games.csv')\n",
    "\n",
    "try:\n",
    "    os.remove('steam_games_processed.csv')\n",
    "except:\n",
    "    pass"
   ]
  },
  {
   "cell_type": "code",
   "execution_count": 3,
   "metadata": {
    "execution": {
     "iopub.execute_input": "2021-08-11T10:55:00.526137Z",
     "iopub.status.busy": "2021-08-11T10:55:00.525816Z",
     "iopub.status.idle": "2021-08-11T10:55:00.558492Z",
     "shell.execute_reply": "2021-08-11T10:55:00.557770Z",
     "shell.execute_reply.started": "2021-08-11T10:55:00.526110Z"
    }
   },
   "outputs": [],
   "source": [
    "df = df[df['name'].notna()]\n",
    "df.drop([\"discount_price\", \"publisher\", \"developer\", \"release_date\", \"desc_snippet\", \"types\", \"achievements\", \"recent_reviews\", \"mature_content\"], axis=1, inplace=True)"
   ]
  },
  {
   "cell_type": "code",
   "execution_count": null,
   "metadata": {
    "execution": {
     "iopub.execute_input": "2021-08-11T11:20:51.715993Z",
     "iopub.status.busy": "2021-08-11T11:20:51.715623Z",
     "iopub.status.idle": "2021-08-11T11:20:55.649722Z",
     "shell.execute_reply": "2021-08-11T11:20:55.648145Z",
     "shell.execute_reply.started": "2021-08-11T11:20:51.715961Z"
    },
    "scrolled": true
   },
   "outputs": [
    {
     "name": "stdout",
     "output_type": "stream",
     "text": [
      "(40817, 11)\n",
      "deleting:  RUSH\n",
      "deleting:  Project Highrise\n",
      "deleting:  Batman: Arkham City - Game of the Year Edition\n",
      "deleting:  Angels of Death\n",
      "deleting:  Luna\n",
      "deleting:  Flashback\n",
      "deleting:  New York Bus Simulator\n",
      "deleting:  Warhammer Quest\n",
      "deleting:  City Builder\n",
      "deleting:  Killing Time\n",
      "deleting:  Jigsaw Puzzles\n",
      "deleting:  Hide and Seek\n",
      "deleting:  Hidden Object Adventure Bundle\n",
      "deleting:  Arcade Bundle\n",
      "deleting:  Arcade Bundle\n",
      "deleting:  Soundtrack Edition\n",
      "deleting:  Solitaire Collection\n",
      "deleting:  Ultimate Arena\n",
      "deleting:  Black Rose\n",
      "deleting:  Solstice\n",
      "deleting:  Surge\n",
      "deleting:  Game & Soundtrack\n",
      "deleting:  7 Days in Dream 光尘\n",
      "deleting:  Bounce\n",
      "deleting:  Game + Soundtrack\n",
      "deleting:  Chaos Theory\n",
      "deleting:  Deluxe Edition\n",
      "deleting:  Deluxe Edition\n",
      "deleting:  Rumpus\n",
      "deleting:  Space Maze\n",
      "deleting:  Spark\n",
      "deleting:  The Mine\n",
      "deleting:  Memories\n",
      "deleting:  Ashes\n",
      "deleting:  Dodge\n",
      "deleting:  We Were Here Too: Supporter Edition\n",
      "deleting:  The Deer\n",
      "deleting:  Zombie Apocalypse\n",
      "deleting:  Afterlife\n",
      "deleting:  Sniper Ghost Warrior 3 - Season Pass\n",
      "deleting:  Dishonored - Void Walker Arsenal\n",
      "deleting:  Taxi\n",
      "deleting:  Mega Bundle\n",
      "deleting:  Alter Ego\n",
      "deleting:  Ramen\n",
      "deleting:  Fruit Sudoku🍉 FULL\n",
      "deleting:  Exodus\n",
      "deleting:  Exodus\n",
      "deleting:  Bounty Hunter\n",
      "deleting:  SC Jogos Collection\n",
      "deleting:  Escape\n",
      "deleting:  Strategy Bundle\n",
      "deleting:  Mars 2030\n",
      "deleting:  Castles\n",
      "deleting:  Perfect\n",
      "deleting:  Escape Room\n"
     ]
    }
   ],
   "source": [
    "duplicated_items = df[df[\"name\"].duplicated()][\"name\"].values.tolist()\n",
    "games = {}\n",
    "print(df.shape)\n",
    "for row in df.iterrows():\n",
    "    if row[1][1] in duplicated_items:\n",
    "        if row[1][1] in games:\n",
    "            games[row[1][1]].append(row[1].isna().sum())\n",
    "        else:\n",
    "            games[row[1][1]] = [row[1].isna().sum()]\n",
    "for item in games:\n",
    "    games[item].sort()\n",
    "    count = 0\n",
    "    for row in df.iterrows():\n",
    "        if row[1][1] == item and (row[1].isnull().sum() == games[item][0]):\n",
    "            df.drop(row[0], inplace=True)\n",
    "            count += 1\n",
    "            print(\"deleting: \", row[1][1])\n",
    "        \n",
    "        if count + 1 == len(games[item]):\n",
    "            break\n",
    "print(df.shape)"
   ]
  },
  {
   "cell_type": "code",
   "execution_count": null,
   "metadata": {
    "scrolled": false
   },
   "outputs": [],
   "source": [
    "all_review_cols = [\"all_review_sentiment\", \"all_review_sentiment_num\", \"all_review_num\"]\n",
    "all_review_df = pd.DataFrame(columns=all_review_cols)\n",
    "idx = 1\n",
    "for row in df.iterrows():\n",
    "    if row[1][3] == None or pd.isna(row[1][3]):\n",
    "        all_review_df.loc[idx] = [\"None\", 0, 0]\n",
    "    else:\n",
    "        try:\n",
    "            items = row[1][3].split('(')\n",
    "            sentiment = items[0].lower().strip()[0:-1]\n",
    "            items = items[1].split(')')\n",
    "            total = int(items[0].strip().replace(',', ''))\n",
    "            percent = int(items[1].split('%')[0].strip()[3:]) / 100\n",
    "            all_review_df.loc[idx] = [sentiment, int(total * percent), total]\n",
    "        except:\n",
    "            all_review_df.loc[idx] = [\"None\", 0, 0]\n",
    "    idx += 1\n",
    "    if idx % 5000 == 0:\n",
    "        print(((idx + 1) / 40752) * 100, \"%\")"
   ]
  },
  {
   "cell_type": "code",
   "execution_count": null,
   "metadata": {},
   "outputs": [],
   "source": [
    "df.drop([\"all_reviews\"], axis=1, inplace=True)\n",
    "df = pd.concat([df, all_review_df], axis=1)\n",
    "df['all_review_sentiment'] = df['all_review_sentiment'].astype('category').cat.codes\n",
    "df.to_csv(\"steam_games_processed.csv\", index=False)"
   ]
  }
 ],
 "metadata": {
  "kernelspec": {
   "display_name": "Python 3 (ipykernel)",
   "language": "python",
   "name": "python3"
  },
  "language_info": {
   "codemirror_mode": {
    "name": "ipython",
    "version": 3
   },
   "file_extension": ".py",
   "mimetype": "text/x-python",
   "name": "python",
   "nbconvert_exporter": "python",
   "pygments_lexer": "ipython3",
   "version": "3.9.6"
  }
 },
 "nbformat": 4,
 "nbformat_minor": 4
}
