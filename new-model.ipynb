{
 "cells": [
  {
   "cell_type": "code",
   "execution_count": 10,
   "id": "c5ed50b6",
   "metadata": {},
   "outputs": [],
   "source": [
    "from sklearn.preprocessing import MultiLabelBinarizer\n",
    "from sklearn.model_selection import train_test_split\n",
    "from scipy import spatial\n",
    "import pandas as pd\n",
    "import numpy as np\n",
    "import math\n",
    "import time"
   ]
  },
  {
   "cell_type": "code",
   "execution_count": 2,
   "id": "c73cf6f3",
   "metadata": {},
   "outputs": [],
   "source": [
    "df = pd.read_csv('steam_games_final_format.csv')"
   ]
  },
  {
   "cell_type": "code",
   "execution_count": 17,
   "id": "9c36f4c4",
   "metadata": {},
   "outputs": [
    {
     "data": {
      "text/html": [
       "<div>\n",
       "<style scoped>\n",
       "    .dataframe tbody tr th:only-of-type {\n",
       "        vertical-align: middle;\n",
       "    }\n",
       "\n",
       "    .dataframe tbody tr th {\n",
       "        vertical-align: top;\n",
       "    }\n",
       "\n",
       "    .dataframe thead th {\n",
       "        text-align: right;\n",
       "    }\n",
       "</style>\n",
       "<table border=\"1\" class=\"dataframe\">\n",
       "  <thead>\n",
       "    <tr style=\"text-align: right;\">\n",
       "      <th></th>\n",
       "      <th>url</th>\n",
       "      <th>name</th>\n",
       "      <th>languages</th>\n",
       "      <th>original_price</th>\n",
       "      <th>all_review_sentiment</th>\n",
       "      <th>all_review_sentiment_num</th>\n",
       "      <th>all_review_num</th>\n",
       "      <th>total</th>\n",
       "    </tr>\n",
       "  </thead>\n",
       "  <tbody>\n",
       "  </tbody>\n",
       "</table>\n",
       "</div>"
      ],
      "text/plain": [
       "Empty DataFrame\n",
       "Columns: [url, name, languages, original_price, all_review_sentiment, all_review_sentiment_num, all_review_num, total]\n",
       "Index: []"
      ]
     },
     "execution_count": 17,
     "metadata": {},
     "output_type": "execute_result"
    }
   ],
   "source": [
    "df[df['name'] == 'CounterStrike Global Offensive']"
   ]
  },
  {
   "cell_type": "code",
   "execution_count": 3,
   "id": "6e3b5bc2",
   "metadata": {},
   "outputs": [],
   "source": [
    "multilabel_binarizer = MultiLabelBinarizer()\n",
    "multilabel_binarizer.fit(df['total'])\n",
    "\n",
    "genre_y = multilabel_binarizer.transform(df['total'])"
   ]
  },
  {
   "cell_type": "code",
   "execution_count": 12,
   "id": "14b966f3",
   "metadata": {
    "scrolled": false
   },
   "outputs": [
    {
     "name": "stdout",
     "output_type": "stream",
     "text": [
      "12.400813330688356 %\n",
      "24.79914699464392 %\n",
      "37.19748065859949 %\n",
      "49.59581432255505 %\n",
      "61.99414798651062 %\n",
      "74.39248165046618 %\n",
      "86.79081531442175 %\n",
      "99.1891489783773 %\n",
      "--- 3.4564731121063232 seconds ---\n"
     ]
    }
   ],
   "source": [
    "start_time = time.time()\n",
    "input_item = genre_y[0]\n",
    "input_item_review = list(df.iloc[0])[4:7]\n",
    "\n",
    "idx = 0\n",
    "result = []\n",
    "for i in df.iterrows():\n",
    "    idx += 1\n",
    "    if idx % 5000 == 0:\n",
    "        print(((idx + 1) / 40328) * 100, \"%\")\n",
    "    result.append({\"url\": i[1][0],\n",
    "       \"cos_dist\": float(spatial.distance.cosine(input_item, genre_y[idx-1])),\n",
    "       \"review_euc_dist\": float(spatial.distance.euclidean(input_item_review, i[1][4:7]))\n",
    "      })\n",
    "print(\"--- %s seconds ---\" % (time.time() - start_time))"
   ]
  },
  {
   "cell_type": "code",
   "execution_count": 5,
   "id": "b368ee7f",
   "metadata": {},
   "outputs": [],
   "source": [
    "df_genre_results = pd.DataFrame(result.sort(key=lambda x: x[\"cos_dist\"], reverse=False))"
   ]
  },
  {
   "cell_type": "code",
   "execution_count": 6,
   "id": "30b6111d",
   "metadata": {},
   "outputs": [],
   "source": [
    "df_review_results = pd.DataFrame(result.sort(key=lambda x: x[\"review_euc_dist\"], reverse=False))"
   ]
  }
 ],
 "metadata": {
  "kernelspec": {
   "display_name": "Python 3 (ipykernel)",
   "language": "python",
   "name": "python3"
  },
  "language_info": {
   "codemirror_mode": {
    "name": "ipython",
    "version": 3
   },
   "file_extension": ".py",
   "mimetype": "text/x-python",
   "name": "python",
   "nbconvert_exporter": "python",
   "pygments_lexer": "ipython3",
   "version": "3.9.5"
  }
 },
 "nbformat": 4,
 "nbformat_minor": 5
}
